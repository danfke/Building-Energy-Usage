{
 "cells": [
  {
   "cell_type": "markdown",
   "id": "bcc27a32-fd3e-4edd-b763-a995a4fdaba1",
   "metadata": {},
   "source": [
    "## Hyperparameter Optimization"
   ]
  },
  {
   "cell_type": "code",
   "execution_count": 1,
   "id": "13851b75-004a-4566-9a3e-abcbf1935f0d",
   "metadata": {
    "jupyter": {
     "source_hidden": true
    },
    "tags": []
   },
   "outputs": [],
   "source": [
    "import numpy as np\n",
    "import pandas as pd\n",
    "import random as random\n",
    "\n",
    "# from sklearn import datasets\n",
    "from sklearn.compose import ColumnTransformer, make_column_transformer\n",
    "from sklearn.dummy import DummyRegressor\n",
    "from sklearn.impute import SimpleImputer\n",
    "\n",
    "from sklearn.linear_model import Ridge\n",
    "from sklearn.svm import SVR\n",
    "from sklearn.neighbors import KNeighborsRegressor\n",
    "\n",
    "from sklearn.model_selection import (\n",
    "    cross_val_score,\n",
    "    cross_validate,\n",
    "    train_test_split,\n",
    ")\n",
    "\n",
    "from sklearn.pipeline import Pipeline, make_pipeline\n",
    "from sklearn.preprocessing import OneHotEncoder, OrdinalEncoder, StandardScaler\n",
    "\n",
    "\n",
    "from sklearn.metrics import make_scorer\n",
    "\n",
    "from sklearn.model_selection import GridSearchCV, RandomizedSearchCV\n",
    "\n",
    "from sklearn.ensemble import RandomForestRegressor\n",
    "from sklearn.ensemble import VotingRegressor\n",
    "from sklearn.ensemble import StackingRegressor\n",
    "from scipy.stats import lognorm, loguniform, randint\n"
   ]
  },
  {
   "cell_type": "code",
   "execution_count": 2,
   "id": "b01c6a1f-e3e1-4493-ab12-321fcd28fbef",
   "metadata": {
    "tags": []
   },
   "outputs": [],
   "source": [
    "# adapted from DSCI 573 Lecture\n",
    "\n",
    "def mean_std_cross_val_scores(model, X_train, y_train, **kwargs):\n",
    "    \"\"\"\n",
    "    Returns mean and std of cross validation\n",
    "\n",
    "    Parameters\n",
    "    ----------\n",
    "    model :\n",
    "        scikit-learn model\n",
    "    X_train : numpy array or pandas DataFrame\n",
    "        X in the training data\n",
    "    y_train :\n",
    "        y in the training data\n",
    "\n",
    "    Returns\n",
    "    ----------\n",
    "        pandas Series with mean scores from cross_validation\n",
    "    \"\"\"\n",
    "\n",
    "    scores = cross_validate(model, X_train, y_train, **kwargs)\n",
    "\n",
    "    mean_scores = pd.DataFrame(scores).mean()\n",
    "    std_scores = pd.DataFrame(scores).std()\n",
    "    out_col = []\n",
    "\n",
    "    for i in range(len(mean_scores)):\n",
    "        out_col.append((f\"%0.3f (+/- %0.3f)\" % (mean_scores[i], std_scores[i])))\n",
    "\n",
    "    return pd.Series(data=out_col, index=mean_scores.index)"
   ]
  },
  {
   "cell_type": "markdown",
   "id": "ce25df41-7b2f-4705-a52d-3a527ad166d0",
   "metadata": {},
   "source": [
    "### Data splitting + preprocessing (+ poss subsetting)"
   ]
  },
  {
   "cell_type": "code",
   "execution_count": 3,
   "id": "df5ab967-e078-40bd-867c-c6dec4693ef7",
   "metadata": {
    "tags": []
   },
   "outputs": [
    {
     "data": {
      "text/html": [
       "<div>\n",
       "<style scoped>\n",
       "    .dataframe tbody tr th:only-of-type {\n",
       "        vertical-align: middle;\n",
       "    }\n",
       "\n",
       "    .dataframe tbody tr th {\n",
       "        vertical-align: top;\n",
       "    }\n",
       "\n",
       "    .dataframe thead th {\n",
       "        text-align: right;\n",
       "    }\n",
       "</style>\n",
       "<table border=\"1\" class=\"dataframe\">\n",
       "  <thead>\n",
       "    <tr style=\"text-align: right;\">\n",
       "      <th></th>\n",
       "      <th>Year_Factor</th>\n",
       "      <th>State_Factor</th>\n",
       "      <th>building_class</th>\n",
       "      <th>facility_type</th>\n",
       "      <th>floor_area</th>\n",
       "      <th>year_built</th>\n",
       "      <th>energy_star_rating</th>\n",
       "      <th>ELEVATION</th>\n",
       "      <th>january_min_temp</th>\n",
       "      <th>january_avg_temp</th>\n",
       "      <th>...</th>\n",
       "      <th>days_above_80F</th>\n",
       "      <th>days_above_90F</th>\n",
       "      <th>days_above_100F</th>\n",
       "      <th>days_above_110F</th>\n",
       "      <th>direction_max_wind_speed</th>\n",
       "      <th>direction_peak_wind_speed</th>\n",
       "      <th>max_wind_speed</th>\n",
       "      <th>days_with_fog</th>\n",
       "      <th>site_eui</th>\n",
       "      <th>id</th>\n",
       "    </tr>\n",
       "  </thead>\n",
       "  <tbody>\n",
       "    <tr>\n",
       "      <th>0</th>\n",
       "      <td>1</td>\n",
       "      <td>State_1</td>\n",
       "      <td>Commercial</td>\n",
       "      <td>Grocery_store_or_food_market</td>\n",
       "      <td>61242.0</td>\n",
       "      <td>1942.0</td>\n",
       "      <td>11.0</td>\n",
       "      <td>2.4</td>\n",
       "      <td>36</td>\n",
       "      <td>50.5</td>\n",
       "      <td>...</td>\n",
       "      <td>14</td>\n",
       "      <td>0</td>\n",
       "      <td>0</td>\n",
       "      <td>0</td>\n",
       "      <td>1.0</td>\n",
       "      <td>1.0</td>\n",
       "      <td>1.0</td>\n",
       "      <td>NaN</td>\n",
       "      <td>248.682615</td>\n",
       "      <td>0</td>\n",
       "    </tr>\n",
       "    <tr>\n",
       "      <th>1</th>\n",
       "      <td>1</td>\n",
       "      <td>State_1</td>\n",
       "      <td>Commercial</td>\n",
       "      <td>Warehouse_Distribution_or_Shipping_center</td>\n",
       "      <td>274000.0</td>\n",
       "      <td>1955.0</td>\n",
       "      <td>45.0</td>\n",
       "      <td>1.8</td>\n",
       "      <td>36</td>\n",
       "      <td>50.5</td>\n",
       "      <td>...</td>\n",
       "      <td>14</td>\n",
       "      <td>0</td>\n",
       "      <td>0</td>\n",
       "      <td>0</td>\n",
       "      <td>1.0</td>\n",
       "      <td>NaN</td>\n",
       "      <td>1.0</td>\n",
       "      <td>12.0</td>\n",
       "      <td>26.500150</td>\n",
       "      <td>1</td>\n",
       "    </tr>\n",
       "    <tr>\n",
       "      <th>2</th>\n",
       "      <td>1</td>\n",
       "      <td>State_1</td>\n",
       "      <td>Commercial</td>\n",
       "      <td>Retail_Enclosed_mall</td>\n",
       "      <td>280025.0</td>\n",
       "      <td>1951.0</td>\n",
       "      <td>97.0</td>\n",
       "      <td>1.8</td>\n",
       "      <td>36</td>\n",
       "      <td>50.5</td>\n",
       "      <td>...</td>\n",
       "      <td>14</td>\n",
       "      <td>0</td>\n",
       "      <td>0</td>\n",
       "      <td>0</td>\n",
       "      <td>1.0</td>\n",
       "      <td>NaN</td>\n",
       "      <td>1.0</td>\n",
       "      <td>12.0</td>\n",
       "      <td>24.693619</td>\n",
       "      <td>2</td>\n",
       "    </tr>\n",
       "    <tr>\n",
       "      <th>3</th>\n",
       "      <td>1</td>\n",
       "      <td>State_1</td>\n",
       "      <td>Commercial</td>\n",
       "      <td>Education_Other_classroom</td>\n",
       "      <td>55325.0</td>\n",
       "      <td>1980.0</td>\n",
       "      <td>46.0</td>\n",
       "      <td>1.8</td>\n",
       "      <td>36</td>\n",
       "      <td>50.5</td>\n",
       "      <td>...</td>\n",
       "      <td>14</td>\n",
       "      <td>0</td>\n",
       "      <td>0</td>\n",
       "      <td>0</td>\n",
       "      <td>1.0</td>\n",
       "      <td>NaN</td>\n",
       "      <td>1.0</td>\n",
       "      <td>12.0</td>\n",
       "      <td>48.406926</td>\n",
       "      <td>3</td>\n",
       "    </tr>\n",
       "    <tr>\n",
       "      <th>4</th>\n",
       "      <td>1</td>\n",
       "      <td>State_1</td>\n",
       "      <td>Commercial</td>\n",
       "      <td>Warehouse_Nonrefrigerated</td>\n",
       "      <td>66000.0</td>\n",
       "      <td>1985.0</td>\n",
       "      <td>100.0</td>\n",
       "      <td>2.4</td>\n",
       "      <td>36</td>\n",
       "      <td>50.5</td>\n",
       "      <td>...</td>\n",
       "      <td>14</td>\n",
       "      <td>0</td>\n",
       "      <td>0</td>\n",
       "      <td>0</td>\n",
       "      <td>1.0</td>\n",
       "      <td>1.0</td>\n",
       "      <td>1.0</td>\n",
       "      <td>NaN</td>\n",
       "      <td>3.899395</td>\n",
       "      <td>4</td>\n",
       "    </tr>\n",
       "  </tbody>\n",
       "</table>\n",
       "<p>5 rows × 64 columns</p>\n",
       "</div>"
      ],
      "text/plain": [
       "   Year_Factor State_Factor building_class  \\\n",
       "0            1      State_1     Commercial   \n",
       "1            1      State_1     Commercial   \n",
       "2            1      State_1     Commercial   \n",
       "3            1      State_1     Commercial   \n",
       "4            1      State_1     Commercial   \n",
       "\n",
       "                               facility_type  floor_area  year_built  \\\n",
       "0               Grocery_store_or_food_market     61242.0      1942.0   \n",
       "1  Warehouse_Distribution_or_Shipping_center    274000.0      1955.0   \n",
       "2                       Retail_Enclosed_mall    280025.0      1951.0   \n",
       "3                  Education_Other_classroom     55325.0      1980.0   \n",
       "4                  Warehouse_Nonrefrigerated     66000.0      1985.0   \n",
       "\n",
       "   energy_star_rating  ELEVATION  january_min_temp  january_avg_temp  ...  \\\n",
       "0                11.0        2.4                36              50.5  ...   \n",
       "1                45.0        1.8                36              50.5  ...   \n",
       "2                97.0        1.8                36              50.5  ...   \n",
       "3                46.0        1.8                36              50.5  ...   \n",
       "4               100.0        2.4                36              50.5  ...   \n",
       "\n",
       "   days_above_80F  days_above_90F  days_above_100F  days_above_110F  \\\n",
       "0              14               0                0                0   \n",
       "1              14               0                0                0   \n",
       "2              14               0                0                0   \n",
       "3              14               0                0                0   \n",
       "4              14               0                0                0   \n",
       "\n",
       "   direction_max_wind_speed  direction_peak_wind_speed  max_wind_speed  \\\n",
       "0                       1.0                        1.0             1.0   \n",
       "1                       1.0                        NaN             1.0   \n",
       "2                       1.0                        NaN             1.0   \n",
       "3                       1.0                        NaN             1.0   \n",
       "4                       1.0                        1.0             1.0   \n",
       "\n",
       "   days_with_fog    site_eui  id  \n",
       "0            NaN  248.682615   0  \n",
       "1           12.0   26.500150   1  \n",
       "2           12.0   24.693619   2  \n",
       "3           12.0   48.406926   3  \n",
       "4            NaN    3.899395   4  \n",
       "\n",
       "[5 rows x 64 columns]"
      ]
     },
     "execution_count": 3,
     "metadata": {},
     "output_type": "execute_result"
    }
   ],
   "source": [
    "df = pd.read_csv('data/train.csv')\n",
    "\n",
    "df.head()"
   ]
  },
  {
   "cell_type": "code",
   "execution_count": 4,
   "id": "0d66cf58-96bf-4d75-8318-effd7c2f3ac3",
   "metadata": {
    "tags": []
   },
   "outputs": [],
   "source": [
    "target = \"site_eui\"\n",
    "train_df, test_df = train_test_split(df, test_size=0.4, random_state=123)\n",
    "\n",
    "X_train, y_train = train_df.drop(columns=[target]), train_df[target]\n",
    "X_test, y_test = test_df.drop(columns=[target]), test_df[target]"
   ]
  },
  {
   "cell_type": "code",
   "execution_count": 5,
   "id": "5b19e74b-5b85-4126-bb70-5eda5e476ee3",
   "metadata": {
    "tags": []
   },
   "outputs": [],
   "source": [
    "numerical_features = train_df.select_dtypes('number').columns.tolist()\n",
    "numerical_features.remove('id')\n",
    "numerical_features.remove(\"site_eui\")\n",
    "categorical_features = train_df.select_dtypes('object').columns.tolist()\n",
    "drop_features = ['id']"
   ]
  },
  {
   "cell_type": "code",
   "execution_count": 6,
   "id": "c1b6d720-2b10-49c7-b525-1beae8626ac5",
   "metadata": {
    "tags": []
   },
   "outputs": [],
   "source": [
    "ct = make_column_transformer(\n",
    "    (make_pipeline(SimpleImputer(), StandardScaler()), numerical_features),\n",
    "    (OneHotEncoder(sparse=False, handle_unknown=\"ignore\"), categorical_features),\n",
    "    (\"drop\", drop_features)\n",
    ")"
   ]
  },
  {
   "cell_type": "markdown",
   "id": "1c89e90c-add9-4632-83d1-065f1238036f",
   "metadata": {},
   "source": [
    "#### Subsetting data"
   ]
  },
  {
   "cell_type": "code",
   "execution_count": 7,
   "id": "882ee301-be95-4a35-a0ef-609c7f682023",
   "metadata": {},
   "outputs": [
    {
     "data": {
      "text/plain": [
       "45454"
      ]
     },
     "execution_count": 7,
     "metadata": {},
     "output_type": "execute_result"
    }
   ],
   "source": [
    "len(y_train)"
   ]
  },
  {
   "cell_type": "code",
   "execution_count": 24,
   "id": "febe71b8-771b-4b56-8067-864f4f2301fa",
   "metadata": {},
   "outputs": [],
   "source": [
    "def subset_data(X, y):\n",
    "    \"\"\"\n",
    "    Function to shuffle + subset data\n",
    "    \"\"\"\n",
    "\n",
    "    # discuss size of subset "
   ]
  },
  {
   "cell_type": "markdown",
   "id": "c7fe1db9-6621-49f3-9d82-0a87231e4d42",
   "metadata": {},
   "source": [
    "### Baseline Models: "
   ]
  },
  {
   "cell_type": "code",
   "execution_count": 9,
   "id": "19c57a6f-78d5-447e-8bdb-9df15df25a79",
   "metadata": {},
   "outputs": [],
   "source": [
    "results = {}\n",
    "scoring_metrics = [\"neg_root_mean_squared_error\", \"r2\", \"neg_mean_absolute_percentage_error\"]"
   ]
  },
  {
   "cell_type": "markdown",
   "id": "ce6a3c66-ce5f-4371-b518-f33499beb029",
   "metadata": {},
   "source": [
    "####  DummyRegressor"
   ]
  },
  {
   "cell_type": "code",
   "execution_count": 10,
   "id": "6ccb3dc1-d307-4bcb-ad80-f8013b2c2d80",
   "metadata": {},
   "outputs": [],
   "source": [
    "dummy_pipe = make_pipeline(\n",
    "    ct,\n",
    "    DummyRegressor()\n",
    ")"
   ]
  },
  {
   "cell_type": "code",
   "execution_count": 11,
   "id": "0e6ffdfc-0104-4696-ac56-bf8b13a83cf1",
   "metadata": {},
   "outputs": [
    {
     "data": {
      "text/html": [
       "<div>\n",
       "<style scoped>\n",
       "    .dataframe tbody tr th:only-of-type {\n",
       "        vertical-align: middle;\n",
       "    }\n",
       "\n",
       "    .dataframe tbody tr th {\n",
       "        vertical-align: top;\n",
       "    }\n",
       "\n",
       "    .dataframe thead th {\n",
       "        text-align: right;\n",
       "    }\n",
       "</style>\n",
       "<table border=\"1\" class=\"dataframe\">\n",
       "  <thead>\n",
       "    <tr style=\"text-align: right;\">\n",
       "      <th></th>\n",
       "      <th>Dummy</th>\n",
       "    </tr>\n",
       "  </thead>\n",
       "  <tbody>\n",
       "    <tr>\n",
       "      <th>fit_time</th>\n",
       "      <td>0.066 (+/- 0.013)</td>\n",
       "    </tr>\n",
       "    <tr>\n",
       "      <th>score_time</th>\n",
       "      <td>0.012 (+/- 0.000)</td>\n",
       "    </tr>\n",
       "    <tr>\n",
       "      <th>test_neg_root_mean_squared_error</th>\n",
       "      <td>-58.644 (+/- 3.172)</td>\n",
       "    </tr>\n",
       "    <tr>\n",
       "      <th>train_neg_root_mean_squared_error</th>\n",
       "      <td>-58.706 (+/- 0.795)</td>\n",
       "    </tr>\n",
       "    <tr>\n",
       "      <th>test_r2</th>\n",
       "      <td>-0.000 (+/- 0.000)</td>\n",
       "    </tr>\n",
       "    <tr>\n",
       "      <th>train_r2</th>\n",
       "      <td>0.000 (+/- 0.000)</td>\n",
       "    </tr>\n",
       "    <tr>\n",
       "      <th>test_neg_mean_absolute_percentage_error</th>\n",
       "      <td>-0.930 (+/- 0.013)</td>\n",
       "    </tr>\n",
       "    <tr>\n",
       "      <th>train_neg_mean_absolute_percentage_error</th>\n",
       "      <td>-0.930 (+/- 0.004)</td>\n",
       "    </tr>\n",
       "  </tbody>\n",
       "</table>\n",
       "</div>"
      ],
      "text/plain": [
       "                                                        Dummy\n",
       "fit_time                                    0.066 (+/- 0.013)\n",
       "score_time                                  0.012 (+/- 0.000)\n",
       "test_neg_root_mean_squared_error          -58.644 (+/- 3.172)\n",
       "train_neg_root_mean_squared_error         -58.706 (+/- 0.795)\n",
       "test_r2                                    -0.000 (+/- 0.000)\n",
       "train_r2                                    0.000 (+/- 0.000)\n",
       "test_neg_mean_absolute_percentage_error    -0.930 (+/- 0.013)\n",
       "train_neg_mean_absolute_percentage_error   -0.930 (+/- 0.004)"
      ]
     },
     "execution_count": 11,
     "metadata": {},
     "output_type": "execute_result"
    }
   ],
   "source": [
    "results[\"Dummy\"] = mean_std_cross_val_scores(\n",
    "    dummy_pipe, X_train, y_train, scoring=scoring_metrics, return_train_score=True\n",
    ")\n",
    "\n",
    "pd.DataFrame(results)"
   ]
  },
  {
   "cell_type": "markdown",
   "id": "210f4055-bbab-40f6-842b-2b5a63f7da98",
   "metadata": {},
   "source": [
    "#### Linear Regression (Ridge) "
   ]
  },
  {
   "cell_type": "code",
   "execution_count": 12,
   "id": "5eeff21e-9308-45ab-b92f-8ed5cf126834",
   "metadata": {},
   "outputs": [],
   "source": [
    "ridge_pipe = make_pipeline(\n",
    "    ct,\n",
    "    Ridge()\n",
    ")"
   ]
  },
  {
   "cell_type": "code",
   "execution_count": 13,
   "id": "10402454-dae7-4e5c-a568-29a564e3b0ee",
   "metadata": {},
   "outputs": [
    {
     "data": {
      "text/html": [
       "<div>\n",
       "<style scoped>\n",
       "    .dataframe tbody tr th:only-of-type {\n",
       "        vertical-align: middle;\n",
       "    }\n",
       "\n",
       "    .dataframe tbody tr th {\n",
       "        vertical-align: top;\n",
       "    }\n",
       "\n",
       "    .dataframe thead th {\n",
       "        text-align: right;\n",
       "    }\n",
       "</style>\n",
       "<table border=\"1\" class=\"dataframe\">\n",
       "  <thead>\n",
       "    <tr style=\"text-align: right;\">\n",
       "      <th></th>\n",
       "      <th>Dummy</th>\n",
       "      <th>Ridge</th>\n",
       "    </tr>\n",
       "  </thead>\n",
       "  <tbody>\n",
       "    <tr>\n",
       "      <th>fit_time</th>\n",
       "      <td>0.066 (+/- 0.013)</td>\n",
       "      <td>0.104 (+/- 0.009)</td>\n",
       "    </tr>\n",
       "    <tr>\n",
       "      <th>score_time</th>\n",
       "      <td>0.012 (+/- 0.000)</td>\n",
       "      <td>0.014 (+/- 0.001)</td>\n",
       "    </tr>\n",
       "    <tr>\n",
       "      <th>test_neg_root_mean_squared_error</th>\n",
       "      <td>-58.644 (+/- 3.172)</td>\n",
       "      <td>-47.136 (+/- 3.109)</td>\n",
       "    </tr>\n",
       "    <tr>\n",
       "      <th>train_neg_root_mean_squared_error</th>\n",
       "      <td>-58.706 (+/- 0.795)</td>\n",
       "      <td>-46.816 (+/- 0.766)</td>\n",
       "    </tr>\n",
       "    <tr>\n",
       "      <th>test_r2</th>\n",
       "      <td>-0.000 (+/- 0.000)</td>\n",
       "      <td>0.354 (+/- 0.026)</td>\n",
       "    </tr>\n",
       "    <tr>\n",
       "      <th>train_r2</th>\n",
       "      <td>0.000 (+/- 0.000)</td>\n",
       "      <td>0.364 (+/- 0.006)</td>\n",
       "    </tr>\n",
       "    <tr>\n",
       "      <th>test_neg_mean_absolute_percentage_error</th>\n",
       "      <td>-0.930 (+/- 0.013)</td>\n",
       "      <td>-0.604 (+/- 0.011)</td>\n",
       "    </tr>\n",
       "    <tr>\n",
       "      <th>train_neg_mean_absolute_percentage_error</th>\n",
       "      <td>-0.930 (+/- 0.004)</td>\n",
       "      <td>-0.601 (+/- 0.005)</td>\n",
       "    </tr>\n",
       "  </tbody>\n",
       "</table>\n",
       "</div>"
      ],
      "text/plain": [
       "                                                        Dummy  \\\n",
       "fit_time                                    0.066 (+/- 0.013)   \n",
       "score_time                                  0.012 (+/- 0.000)   \n",
       "test_neg_root_mean_squared_error          -58.644 (+/- 3.172)   \n",
       "train_neg_root_mean_squared_error         -58.706 (+/- 0.795)   \n",
       "test_r2                                    -0.000 (+/- 0.000)   \n",
       "train_r2                                    0.000 (+/- 0.000)   \n",
       "test_neg_mean_absolute_percentage_error    -0.930 (+/- 0.013)   \n",
       "train_neg_mean_absolute_percentage_error   -0.930 (+/- 0.004)   \n",
       "\n",
       "                                                        Ridge  \n",
       "fit_time                                    0.104 (+/- 0.009)  \n",
       "score_time                                  0.014 (+/- 0.001)  \n",
       "test_neg_root_mean_squared_error          -47.136 (+/- 3.109)  \n",
       "train_neg_root_mean_squared_error         -46.816 (+/- 0.766)  \n",
       "test_r2                                     0.354 (+/- 0.026)  \n",
       "train_r2                                    0.364 (+/- 0.006)  \n",
       "test_neg_mean_absolute_percentage_error    -0.604 (+/- 0.011)  \n",
       "train_neg_mean_absolute_percentage_error   -0.601 (+/- 0.005)  "
      ]
     },
     "execution_count": 13,
     "metadata": {},
     "output_type": "execute_result"
    }
   ],
   "source": [
    "results[\"Ridge\"] = mean_std_cross_val_scores(\n",
    "    ridge_pipe, X_train, y_train, scoring=scoring_metrics, return_train_score=True, error_score=\"raise\"\n",
    ")\n",
    "\n",
    "pd.DataFrame(results)"
   ]
  },
  {
   "cell_type": "markdown",
   "id": "a33a3265-10ce-4942-90f9-bbb5801b1446",
   "metadata": {},
   "source": [
    "#### KNN, SVR, RF"
   ]
  },
  {
   "cell_type": "code",
   "execution_count": 14,
   "id": "a59fb9d4-46f6-4276-a169-c3191ba94e88",
   "metadata": {},
   "outputs": [],
   "source": [
    "models = {\n",
    "    \"knn\": make_pipeline(ct, KNeighborsRegressor()),\n",
    "    \"svr\": make_pipeline(ct, SVR()),\n",
    "    \"randomforest\": make_pipeline(ct, RandomForestRegressor())\n",
    "}"
   ]
  },
  {
   "cell_type": "code",
   "execution_count": 15,
   "id": "26494383-a1ff-4eb1-9283-3f470d6cb9a6",
   "metadata": {},
   "outputs": [],
   "source": [
    "# DONT RUN THIS AGAIN plz\n",
    "\n",
    "\n",
    "# for model in models:\n",
    "#     print(model)\n",
    "#     results[model] = mean_std_cross_val_scores(\n",
    "#         models[model],\n",
    "#         X_train,\n",
    "#         y_train,\n",
    "#         scoring=scoring_metrics,\n",
    "#         return_train_score=True,\n",
    "#         verbose = False,\n",
    "#         n_jobs = -1\n",
    "#     )"
   ]
  },
  {
   "cell_type": "markdown",
   "id": "2d3b0f35-ef00-46c2-8505-321588f422da",
   "metadata": {},
   "source": [
    "#### Baseline Scores"
   ]
  },
  {
   "cell_type": "code",
   "execution_count": 16,
   "id": "218a34e3-732b-425b-9366-abcf30b27555",
   "metadata": {},
   "outputs": [
    {
     "data": {
      "text/html": [
       "<div>\n",
       "<style scoped>\n",
       "    .dataframe tbody tr th:only-of-type {\n",
       "        vertical-align: middle;\n",
       "    }\n",
       "\n",
       "    .dataframe tbody tr th {\n",
       "        vertical-align: top;\n",
       "    }\n",
       "\n",
       "    .dataframe thead th {\n",
       "        text-align: right;\n",
       "    }\n",
       "</style>\n",
       "<table border=\"1\" class=\"dataframe\">\n",
       "  <thead>\n",
       "    <tr style=\"text-align: right;\">\n",
       "      <th></th>\n",
       "      <th>Dummy</th>\n",
       "      <th>Ridge</th>\n",
       "    </tr>\n",
       "  </thead>\n",
       "  <tbody>\n",
       "    <tr>\n",
       "      <th>fit_time</th>\n",
       "      <td>0.066 (+/- 0.013)</td>\n",
       "      <td>0.104 (+/- 0.009)</td>\n",
       "    </tr>\n",
       "    <tr>\n",
       "      <th>score_time</th>\n",
       "      <td>0.012 (+/- 0.000)</td>\n",
       "      <td>0.014 (+/- 0.001)</td>\n",
       "    </tr>\n",
       "    <tr>\n",
       "      <th>test_neg_root_mean_squared_error</th>\n",
       "      <td>-58.644 (+/- 3.172)</td>\n",
       "      <td>-47.136 (+/- 3.109)</td>\n",
       "    </tr>\n",
       "    <tr>\n",
       "      <th>train_neg_root_mean_squared_error</th>\n",
       "      <td>-58.706 (+/- 0.795)</td>\n",
       "      <td>-46.816 (+/- 0.766)</td>\n",
       "    </tr>\n",
       "    <tr>\n",
       "      <th>test_r2</th>\n",
       "      <td>-0.000 (+/- 0.000)</td>\n",
       "      <td>0.354 (+/- 0.026)</td>\n",
       "    </tr>\n",
       "    <tr>\n",
       "      <th>train_r2</th>\n",
       "      <td>0.000 (+/- 0.000)</td>\n",
       "      <td>0.364 (+/- 0.006)</td>\n",
       "    </tr>\n",
       "    <tr>\n",
       "      <th>test_neg_mean_absolute_percentage_error</th>\n",
       "      <td>-0.930 (+/- 0.013)</td>\n",
       "      <td>-0.604 (+/- 0.011)</td>\n",
       "    </tr>\n",
       "    <tr>\n",
       "      <th>train_neg_mean_absolute_percentage_error</th>\n",
       "      <td>-0.930 (+/- 0.004)</td>\n",
       "      <td>-0.601 (+/- 0.005)</td>\n",
       "    </tr>\n",
       "  </tbody>\n",
       "</table>\n",
       "</div>"
      ],
      "text/plain": [
       "                                                        Dummy  \\\n",
       "fit_time                                    0.066 (+/- 0.013)   \n",
       "score_time                                  0.012 (+/- 0.000)   \n",
       "test_neg_root_mean_squared_error          -58.644 (+/- 3.172)   \n",
       "train_neg_root_mean_squared_error         -58.706 (+/- 0.795)   \n",
       "test_r2                                    -0.000 (+/- 0.000)   \n",
       "train_r2                                    0.000 (+/- 0.000)   \n",
       "test_neg_mean_absolute_percentage_error    -0.930 (+/- 0.013)   \n",
       "train_neg_mean_absolute_percentage_error   -0.930 (+/- 0.004)   \n",
       "\n",
       "                                                        Ridge  \n",
       "fit_time                                    0.104 (+/- 0.009)  \n",
       "score_time                                  0.014 (+/- 0.001)  \n",
       "test_neg_root_mean_squared_error          -47.136 (+/- 3.109)  \n",
       "train_neg_root_mean_squared_error         -46.816 (+/- 0.766)  \n",
       "test_r2                                     0.354 (+/- 0.026)  \n",
       "train_r2                                    0.364 (+/- 0.006)  \n",
       "test_neg_mean_absolute_percentage_error    -0.604 (+/- 0.011)  \n",
       "train_neg_mean_absolute_percentage_error   -0.601 (+/- 0.005)  "
      ]
     },
     "execution_count": 16,
     "metadata": {},
     "output_type": "execute_result"
    }
   ],
   "source": [
    "pd.DataFrame(results)"
   ]
  },
  {
   "cell_type": "markdown",
   "id": "76027c3f-9c3c-4356-b67f-90f48ea90ec7",
   "metadata": {},
   "source": [
    "### Hyperparameter optimization"
   ]
  },
  {
   "cell_type": "markdown",
   "id": "1a19fbd2-52c9-46f4-91a4-4917596015fe",
   "metadata": {
    "tags": []
   },
   "source": [
    "#### Linear Regression (Ridge) ~ \n",
    "*alpha : Regularization strength*"
   ]
  },
  {
   "cell_type": "code",
   "execution_count": 17,
   "id": "22ce6e65-d54d-42db-bd94-b3d6df36c82c",
   "metadata": {
    "tags": []
   },
   "outputs": [],
   "source": [
    "param_grid = {\"ridge__alpha\": 10.0 ** np.arange(-6, 6, 1)}\n",
    "\n",
    "ridge_search = RandomizedSearchCV(\n",
    "    ridge_pipe, param_grid, return_train_score=True, n_jobs=-1\n",
    ")\n",
    "\n",
    "ridge_search.fit(X_train, y_train);\n"
   ]
  },
  {
   "cell_type": "code",
   "execution_count": 18,
   "id": "d0c9a3ea-7d6d-4c01-94c4-524e015ecb33",
   "metadata": {},
   "outputs": [
    {
     "name": "stdout",
     "output_type": "stream",
     "text": [
      "Best hyperparameter values:  {'ridge__alpha': 1.0}\n",
      "Best score: 0.354\n"
     ]
    }
   ],
   "source": [
    "print(\"Best hyperparameter values: \", ridge_search.best_params_)\n",
    "print(\"Best score: %0.3f\" % (ridge_search.best_score_))"
   ]
  },
  {
   "cell_type": "markdown",
   "id": "39d95d28-c89d-49a5-96cb-762626b934fa",
   "metadata": {},
   "source": [
    " default is the best performing?"
   ]
  },
  {
   "cell_type": "code",
   "execution_count": 19,
   "id": "2a37e2f4-781d-4f59-9d2e-d2ee2bda1387",
   "metadata": {},
   "outputs": [
    {
     "data": {
      "text/html": [
       "<div>\n",
       "<style scoped>\n",
       "    .dataframe tbody tr th:only-of-type {\n",
       "        vertical-align: middle;\n",
       "    }\n",
       "\n",
       "    .dataframe tbody tr th {\n",
       "        vertical-align: top;\n",
       "    }\n",
       "\n",
       "    .dataframe thead th {\n",
       "        text-align: right;\n",
       "    }\n",
       "</style>\n",
       "<table border=\"1\" class=\"dataframe\">\n",
       "  <thead>\n",
       "    <tr style=\"text-align: right;\">\n",
       "      <th></th>\n",
       "      <th>Dummy</th>\n",
       "      <th>Ridge</th>\n",
       "      <th>Ridge (tuned)</th>\n",
       "    </tr>\n",
       "  </thead>\n",
       "  <tbody>\n",
       "    <tr>\n",
       "      <th>fit_time</th>\n",
       "      <td>0.066 (+/- 0.013)</td>\n",
       "      <td>0.104 (+/- 0.009)</td>\n",
       "      <td>0.139 (+/- 0.081)</td>\n",
       "    </tr>\n",
       "    <tr>\n",
       "      <th>score_time</th>\n",
       "      <td>0.012 (+/- 0.000)</td>\n",
       "      <td>0.014 (+/- 0.001)</td>\n",
       "      <td>0.015 (+/- 0.001)</td>\n",
       "    </tr>\n",
       "    <tr>\n",
       "      <th>test_neg_root_mean_squared_error</th>\n",
       "      <td>-58.644 (+/- 3.172)</td>\n",
       "      <td>-47.136 (+/- 3.109)</td>\n",
       "      <td>-47.136 (+/- 3.109)</td>\n",
       "    </tr>\n",
       "    <tr>\n",
       "      <th>train_neg_root_mean_squared_error</th>\n",
       "      <td>-58.706 (+/- 0.795)</td>\n",
       "      <td>-46.816 (+/- 0.766)</td>\n",
       "      <td>-46.816 (+/- 0.766)</td>\n",
       "    </tr>\n",
       "    <tr>\n",
       "      <th>test_r2</th>\n",
       "      <td>-0.000 (+/- 0.000)</td>\n",
       "      <td>0.354 (+/- 0.026)</td>\n",
       "      <td>0.354 (+/- 0.026)</td>\n",
       "    </tr>\n",
       "    <tr>\n",
       "      <th>train_r2</th>\n",
       "      <td>0.000 (+/- 0.000)</td>\n",
       "      <td>0.364 (+/- 0.006)</td>\n",
       "      <td>0.364 (+/- 0.006)</td>\n",
       "    </tr>\n",
       "    <tr>\n",
       "      <th>test_neg_mean_absolute_percentage_error</th>\n",
       "      <td>-0.930 (+/- 0.013)</td>\n",
       "      <td>-0.604 (+/- 0.011)</td>\n",
       "      <td>-0.604 (+/- 0.011)</td>\n",
       "    </tr>\n",
       "    <tr>\n",
       "      <th>train_neg_mean_absolute_percentage_error</th>\n",
       "      <td>-0.930 (+/- 0.004)</td>\n",
       "      <td>-0.601 (+/- 0.005)</td>\n",
       "      <td>-0.601 (+/- 0.005)</td>\n",
       "    </tr>\n",
       "  </tbody>\n",
       "</table>\n",
       "</div>"
      ],
      "text/plain": [
       "                                                        Dummy  \\\n",
       "fit_time                                    0.066 (+/- 0.013)   \n",
       "score_time                                  0.012 (+/- 0.000)   \n",
       "test_neg_root_mean_squared_error          -58.644 (+/- 3.172)   \n",
       "train_neg_root_mean_squared_error         -58.706 (+/- 0.795)   \n",
       "test_r2                                    -0.000 (+/- 0.000)   \n",
       "train_r2                                    0.000 (+/- 0.000)   \n",
       "test_neg_mean_absolute_percentage_error    -0.930 (+/- 0.013)   \n",
       "train_neg_mean_absolute_percentage_error   -0.930 (+/- 0.004)   \n",
       "\n",
       "                                                        Ridge  \\\n",
       "fit_time                                    0.104 (+/- 0.009)   \n",
       "score_time                                  0.014 (+/- 0.001)   \n",
       "test_neg_root_mean_squared_error          -47.136 (+/- 3.109)   \n",
       "train_neg_root_mean_squared_error         -46.816 (+/- 0.766)   \n",
       "test_r2                                     0.354 (+/- 0.026)   \n",
       "train_r2                                    0.364 (+/- 0.006)   \n",
       "test_neg_mean_absolute_percentage_error    -0.604 (+/- 0.011)   \n",
       "train_neg_mean_absolute_percentage_error   -0.601 (+/- 0.005)   \n",
       "\n",
       "                                                Ridge (tuned)  \n",
       "fit_time                                    0.139 (+/- 0.081)  \n",
       "score_time                                  0.015 (+/- 0.001)  \n",
       "test_neg_root_mean_squared_error          -47.136 (+/- 3.109)  \n",
       "train_neg_root_mean_squared_error         -46.816 (+/- 0.766)  \n",
       "test_r2                                     0.354 (+/- 0.026)  \n",
       "train_r2                                    0.364 (+/- 0.006)  \n",
       "test_neg_mean_absolute_percentage_error    -0.604 (+/- 0.011)  \n",
       "train_neg_mean_absolute_percentage_error   -0.601 (+/- 0.005)  "
      ]
     },
     "execution_count": 19,
     "metadata": {},
     "output_type": "execute_result"
    }
   ],
   "source": [
    "best_ridge = ridge_search.best_estimator_\n",
    "\n",
    "results[\"Ridge (tuned)\"] = mean_std_cross_val_scores(\n",
    "    best_ridge, X_train, y_train, scoring=scoring_metrics, return_train_score=True, error_score=\"raise\"\n",
    ")\n",
    "pd.DataFrame(results)"
   ]
  },
  {
   "cell_type": "markdown",
   "id": "c82b1a1c-236c-46d9-9999-a8fac0bf1628",
   "metadata": {},
   "source": [
    "*preserved results prior to computer implosion*\n",
    "\n",
    "![](hp.png)"
   ]
  },
  {
   "cell_type": "markdown",
   "id": "0c9cc69b-9e67-49d0-a2d6-06cf7e8320ac",
   "metadata": {},
   "source": [
    "#### KNN\n",
    "\n",
    "*n_neighbors : # of neighbors*"
   ]
  },
  {
   "cell_type": "code",
   "execution_count": 20,
   "id": "e4513502-afce-4580-aa96-d02d814dbbf3",
   "metadata": {},
   "outputs": [],
   "source": [
    "param_grid2 = {\"kneighborsregressor__n_neighbors\": np.arange(5, 95, 10, dtype =int)}"
   ]
  },
  {
   "cell_type": "code",
   "execution_count": 21,
   "id": "163a2c8d-d413-4a3f-9992-5d3672993868",
   "metadata": {},
   "outputs": [],
   "source": [
    "# ok i can def make this a loop but my brainz cant deal w that rn\n",
    "\n",
    "knn_search =  GridSearchCV(\n",
    "    models[\"knn\"],\n",
    "    param_grid2,\n",
    "    return_train_score=True,\n",
    "    n_jobs=-1\n",
    ")"
   ]
  },
  {
   "cell_type": "code",
   "execution_count": 22,
   "id": "2f3a302d-7e56-48a4-800e-7b78fa55447b",
   "metadata": {
    "tags": []
   },
   "outputs": [],
   "source": [
    "# knn_search.fit(X_train, y_train);"
   ]
  },
  {
   "cell_type": "code",
   "execution_count": 23,
   "id": "a0b095e5-89d3-4237-bfff-1843a091bebd",
   "metadata": {},
   "outputs": [
    {
     "ename": "AttributeError",
     "evalue": "'GridSearchCV' object has no attribute 'best_params_'",
     "output_type": "error",
     "traceback": [
      "\u001b[0;31m---------------------------------------------------------------------------\u001b[0m",
      "\u001b[0;31mAttributeError\u001b[0m                            Traceback (most recent call last)",
      "\u001b[0;32m/var/folders/qh/6chp8sds4c7gybyg8m5n7k3m0000gn/T/ipykernel_44651/1706797871.py\u001b[0m in \u001b[0;36m<module>\u001b[0;34m\u001b[0m\n\u001b[0;32m----> 1\u001b[0;31m \u001b[0mprint\u001b[0m\u001b[0;34m(\u001b[0m\u001b[0;34m\"Best hyperparameter values: \"\u001b[0m\u001b[0;34m,\u001b[0m \u001b[0mknn_search\u001b[0m\u001b[0;34m.\u001b[0m\u001b[0mbest_params_\u001b[0m\u001b[0;34m)\u001b[0m\u001b[0;34m\u001b[0m\u001b[0;34m\u001b[0m\u001b[0m\n\u001b[0m\u001b[1;32m      2\u001b[0m \u001b[0mprint\u001b[0m\u001b[0;34m(\u001b[0m\u001b[0;34m\"Best score: %0.3f\"\u001b[0m \u001b[0;34m%\u001b[0m \u001b[0;34m(\u001b[0m\u001b[0mknn_search\u001b[0m\u001b[0;34m.\u001b[0m\u001b[0mbest_score_\u001b[0m\u001b[0;34m)\u001b[0m\u001b[0;34m)\u001b[0m\u001b[0;34m\u001b[0m\u001b[0;34m\u001b[0m\u001b[0m\n",
      "\u001b[0;31mAttributeError\u001b[0m: 'GridSearchCV' object has no attribute 'best_params_'"
     ]
    }
   ],
   "source": [
    "print(\"Best hyperparameter values: \", knn_search.best_params_)\n",
    "print(\"Best score: %0.3f\" % (knn_search.best_score_))"
   ]
  },
  {
   "cell_type": "markdown",
   "id": "6ed6df54-41c7-4a1f-98a5-98994d47c1f3",
   "metadata": {},
   "source": [
    "#### SVR\n",
    "\n",
    "*C : Regularization strength*\n",
    "\n",
    "*Gamma : Kernel coefficient*\n"
   ]
  },
  {
   "cell_type": "code",
   "execution_count": null,
   "id": "9d700527-a2f9-469f-ba65-71ab7bf5df5d",
   "metadata": {},
   "outputs": [],
   "source": [
    "param_grid3 = {\"svr__gamma\": np.logspace(-3, 2, 6), \"svr__C\": np.linspace(1, 3, 6)}"
   ]
  },
  {
   "cell_type": "code",
   "execution_count": null,
   "id": "f035c108-5a95-4175-b4c1-a38c1f0da3ed",
   "metadata": {},
   "outputs": [],
   "source": [
    "svr_search = RandomizedSearchCV(\n",
    "    models[\"svr\"], \n",
    "    param_grid3, \n",
    "    return_train_score=True, \n",
    "    n_jobs=-1\n",
    ")\n"
   ]
  },
  {
   "cell_type": "code",
   "execution_count": null,
   "id": "e619690a-b5fc-47a2-912d-1484753b9fdb",
   "metadata": {},
   "outputs": [],
   "source": [
    "# svr_search.fit(X_train, y_train);"
   ]
  },
  {
   "cell_type": "code",
   "execution_count": null,
   "id": "8eb5d56f-832e-4cdb-87fd-2b4e0f47fc25",
   "metadata": {},
   "outputs": [],
   "source": [
    "print(\"Best hyperparameter values: \", svr_search.best_params_)\n",
    "print(\"Best score: %0.3f\" % (svr_search.best_score_))"
   ]
  },
  {
   "cell_type": "markdown",
   "id": "e5877ed0-3268-4cae-9484-effbdca2cedc",
   "metadata": {},
   "source": [
    "#### RandomForest\n",
    "*n_estimators : number of trees in forest*\n",
    "\n",
    "*max_depth : depth of trees*\n",
    "\n",
    "*max_features: features to consider when looking for the best split*"
   ]
  },
  {
   "cell_type": "code",
   "execution_count": null,
   "id": "23219cb5-1062-44ec-9473-3cf527bd1af1",
   "metadata": {},
   "outputs": [],
   "source": [
    " param_grid4 ={\n",
    "        \"randomforestregressor__n_estimators\": np.arange(5, 200, 5),\n",
    "        \"randomforestregressor__max_depth\": np.arange(2, 20, 4),\n",
    "        \"randomforestregressor__max_features\": np.arange(0.05, 1, 0.05)\n",
    "    }"
   ]
  },
  {
   "cell_type": "code",
   "execution_count": null,
   "id": "890a7852-e063-49b3-a746-0daf61503b5b",
   "metadata": {},
   "outputs": [],
   "source": [
    "rf_search = RandomizedSearchCV(\n",
    "    models[\"randomforest\"], \n",
    "    param_grid3, \n",
    "    return_train_score=True, \n",
    "    n_jobs=-1\n",
    ")\n"
   ]
  },
  {
   "cell_type": "code",
   "execution_count": null,
   "id": "b10f006b-7704-4568-bcc5-96a04430c2f4",
   "metadata": {},
   "outputs": [],
   "source": [
    "# rf_search.fit(X_train, y_train);"
   ]
  },
  {
   "cell_type": "code",
   "execution_count": null,
   "id": "4fd36822-af26-4203-9a99-0a6f1318e8a9",
   "metadata": {},
   "outputs": [],
   "source": [
    "print(\"Best hyperparameter values: \", rf_search.best_params_)\n",
    "print(\"Best score: %0.3f\" % (rf_search.best_score_))"
   ]
  }
 ],
 "metadata": {
  "kernelspec": {
   "display_name": "Python [conda env:573]",
   "language": "python",
   "name": "conda-env-573-py"
  },
  "language_info": {
   "codemirror_mode": {
    "name": "ipython",
    "version": 3
   },
   "file_extension": ".py",
   "mimetype": "text/x-python",
   "name": "python",
   "nbconvert_exporter": "python",
   "pygments_lexer": "ipython3",
   "version": "3.9.7"
  }
 },
 "nbformat": 4,
 "nbformat_minor": 5
}
